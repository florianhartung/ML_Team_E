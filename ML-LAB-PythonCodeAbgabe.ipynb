{
 "cells": [
  {
   "cell_type": "markdown",
   "metadata": {},
   "source": [
    "# Abgabe von zusätzlichem Python Code\n",
    "\n",
    "* Wiederverwendung und Modularisierung  sind sehr mächtige Werkzeuge in der Entwicklung. Diese Prinzipien können Sie auch in Ihrem Projekt anwenden. \n",
    "\n",
    "* Wiederverwendung\n",
    "    * Wenn Sie externen Programm-Code verwenden, müssen Sie diesen in ihr Projekt so einbinden, dass die Ausführung des Jupyter-Notebooks möglich ist.\n",
    "    * Wenn Sie externen Programm-Code verwenden, klären Sie die Nachnutzungbedingungen von diesem Code und beachten Sie die entsprechenden Lizenzen. \n",
    "\n",
    "* Modularisierung \n",
    "    * Um das Notebook (oder auch mehrere) übersichtlich zu halten, können auch eigenen Python (Funktionen, Klassen, etc.) außerhalb des Jupyter Notebooks entwickeln.\n",
    "    * Sie müssen diesen Code - wie auch externen Code - aus dem Jupyter Notebook heraus verwenden können \n",
    "    * Sie müssen auch diesen Code mit abgeben. \n",
    "\n",
    "## Struktur der Abgabe\n",
    "\n",
    "Die Struktur für diesen zusätzlichen Code soll sich an dem folgenden Template orientieren. \n",
    "\n",
    "```\n",
    "* TeamA.ipynb  // das Jupyter Notebook mit der Dokumentation \n",
    "* src\n",
    "    * __init__.py  // leere Datei\n",
    "    * hello.py      // Datei mit Python Code\n",
    "    * moduleA       // weiteres, eigenes Modul\n",
    "        * __init__.py\n",
    "        * hellomodule.py\n",
    "```\n",
    "Mit dem folgenden Code können Sie die Module entsprechend laden! "
   ]
  },
  {
   "cell_type": "code",
   "execution_count": null,
   "metadata": {
    "slideshow": {
     "slide_type": "slide"
    }
   },
   "outputs": [],
   "source": [
    "import sys\n",
    "from pathlib import Path\n",
    "module_path = str(Path.cwd() / \"src\")\n",
    "if module_path not in sys.path:\n",
    "    sys.path.append(module_path)"
   ]
  },
  {
   "cell_type": "markdown",
   "metadata": {},
   "source": [
    "* Einlesen einer Funktion 'hello()' aus dem Module hello.py"
   ]
  },
  {
   "cell_type": "code",
   "execution_count": null,
   "metadata": {},
   "outputs": [],
   "source": [
    "from hello import hello\n",
    "hello()"
   ]
  },
  {
   "cell_type": "markdown",
   "metadata": {},
   "source": [
    "* Einlesen einer Funktion 'hellomod()' aus dem Module moduleA.hellomodule.py"
   ]
  },
  {
   "cell_type": "code",
   "execution_count": null,
   "metadata": {},
   "outputs": [],
   "source": [
    "from moduleA.hellomodule import hellomod\n",
    "hellomod()"
   ]
  },
  {
   "cell_type": "markdown",
   "metadata": {},
   "source": []
  }
 ],
 "metadata": {
  "kernelspec": {
   "display_name": "MAGICuda",
   "language": "python",
   "name": "python3"
  },
  "language_info": {
   "codemirror_mode": {
    "name": "ipython",
    "version": 3
   },
   "file_extension": ".py",
   "mimetype": "text/x-python",
   "name": "python",
   "nbconvert_exporter": "python",
   "pygments_lexer": "ipython3",
   "version": "3.10.16"
  }
 },
 "nbformat": 4,
 "nbformat_minor": 2
}
