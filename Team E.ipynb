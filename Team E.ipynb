{
 "cells": [
  {
   "cell_type": "markdown",
   "metadata": {},
   "source": [
    "# Team E - Pixels plus domain knowledge to True Shower parameters with CNNs\n",
    "\n",
    "## Team Members\n",
    "\n",
    "* Bjarne Karsten (3559535)\n",
    "* Marek Freunscht (9604914)\n",
    "* Florian Hartung (6622800)\n",
    "\n",
    "## Data and Example Download\n",
    "[...]\n",
    "\n",
    "* an exemplary jupyter notebook and futher information is available from the git repo https://github.com/astrojarred/magic-ml-images\n",
    "    * You find more information there. "
   ]
  },
  {
   "cell_type": "markdown",
   "metadata": {},
   "source": [
    "\n",
    "## TASK \n",
    "\n",
    "* Improve your understanding of the data \n",
    "* The focus of this teams is the setup of MLPs or CNNs and combining them with domain knowledge like the hillas parameters\n",
    "* Use the pixel information features starting \"clean_image\" and the features starting with \"hillas\" and \"stereo\"\n",
    "    * they contain information of all the pixels for a simulated particle\n",
    "        * \"clean_image\" contains the data after some some standard cleaning algorithms were applied. These data are used in the MAGIC analysis to derive the Hillas Parameters.\n",
    "        * \"hillas\" and \"stereo\" features are derived from the raw images by using the standard MAGIC analysis workflow. \n",
    "* Create a baseline using a simple ML algorithm to\n",
    "    * classify gammas and protons \n",
    "        * by combining both clean_image_\\* features\n",
    "        * by combining both clean_image_\\* features with \"hillas\" and/or \"stereo\" \n",
    "    * predict/infer the true shower parameters using a simple ML algorithm\n",
    "        * using clean_image\\_\\*\\_m1 and clean_image\\_\\*\\_m2 independently\n",
    "        * by combining both clean_image_\\* features with \"hillas\" and/or \"stereo\" \n",
    "* Use MLP and simple CNN networks following the same strategy as above to\n",
    "    * classify gammas and protons \n",
    "    * predict/infer true shower parameters using a simple ML algorithm\n",
    "    * Think about a method to reuse the existing CNN kernels instead of using a hexagonal approch\n",
    "* compare the different approaches \n",
    "\n",
    "\n"
   ]
  },
  {
   "cell_type": "markdown",
   "metadata": {},
   "source": [
    "\n",
    "## Implementation\n",
    "\n",
    "* Start here with your implementation and documentation\n",
    "\n",
    "\n"
   ]
  },
  {
   "cell_type": "code",
   "execution_count": null,
   "metadata": {},
   "outputs": [],
   "source": [
    "# add your implementation (code/documentation) here! "
   ]
  },
  {
   "cell_type": "markdown",
   "metadata": {},
   "source": []
  }
 ],
 "metadata": {
  "kernelspec": {
   "display_name": "MAGICuda",
   "language": "python",
   "name": "python3"
  },
  "language_info": {
   "name": "python",
   "version": "3.10.16"
  }
 },
 "nbformat": 4,
 "nbformat_minor": 2
}
