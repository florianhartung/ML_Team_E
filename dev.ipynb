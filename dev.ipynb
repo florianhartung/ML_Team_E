{
 "cells": [
  {
   "cell_type": "code",
   "execution_count": 14,
   "metadata": {},
   "outputs": [
    {
     "data": {
      "text/plain": [
       "72"
      ]
     },
     "execution_count": 14,
     "metadata": {},
     "output_type": "execute_result"
    }
   ],
   "source": [
    "import pandas as pd\n",
    "import torch\n",
    "import matplotlib.pyplot as plt\n",
    "import numpy as np\n",
    "import pyarrow.parquet as pq\n",
    "\n",
    "import math\n",
    "import sys\n",
    "\n",
    "sys.path.append(\"./magic-ml-images\")\n",
    "from magicdl import magic\n",
    "\n",
    "gamma_file = pq.ParquetFile(\"./data/magic-gammas.parquet\")\n",
    "proton_file = pq.ParquetFile(\"./data/magic-protons.parquet\")\n",
    "\n",
    "batch = next(gamma_file.iter_batches(batch_size=10_00_0))\n",
    "batch = batch.to_pandas()\n",
    "\n",
    "def count_nans(df):\n",
    "    return pd.isnull(df).any(axis=1).sum()\n",
    "\n",
    "count_nans(batch)\n",
    "\n",
    "# get a random proton event\n",
    "# random_proton = batch.sample(1).iloc[0]\n",
    "\n",
    "# show the columns and their types\n",
    "# for value, col in zip(random_proton, batch.columns):\n",
    "#     if hasattr(value, \"__len__\"):\n",
    "#         print(f\"- {col:40}: array len[{len(value)}]\")\n",
    "#     else:\n",
    "#         print(f\"- {col:40}: {value} \")\n",
    "\n",
    "# event = magic.Event(random_proton, \"proton\")\n",
    "# event.plot(figsize=4, telescope_id=1, title=True)\n",
    "# event.plot(figsize=4, telescope_id=1, cleaned=True, title=True)"
   ]
  },
  {
   "cell_type": "code",
   "execution_count": null,
   "metadata": {},
   "outputs": [],
   "source": []
  },
  {
   "cell_type": "code",
   "execution_count": null,
   "metadata": {},
   "outputs": [],
   "source": []
  }
 ],
 "metadata": {
  "kernelspec": {
   "display_name": "Python 3",
   "language": "python",
   "name": "python3"
  },
  "language_info": {
   "codemirror_mode": {
    "name": "ipython",
    "version": 3
   },
   "file_extension": ".py",
   "mimetype": "text/x-python",
   "name": "python",
   "nbconvert_exporter": "python",
   "pygments_lexer": "ipython3",
   "version": "3.10.8"
  }
 },
 "nbformat": 4,
 "nbformat_minor": 2
}
