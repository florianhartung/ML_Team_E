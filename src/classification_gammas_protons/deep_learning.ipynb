{
 "cells": [
  {
   "cell_type": "markdown",
   "metadata": {},
   "source": [
    "# Gamma and Proton Classification with Deep Learning"
   ]
  },
  {
   "cell_type": "code",
   "execution_count": 1,
   "metadata": {},
   "outputs": [],
   "source": [
    "%matplotlib inline\n",
    "\n",
    "import torch.nn as nn\n",
    "import torch\n",
    "import pandas as pd\n",
    "import numpy as np\n",
    "import matplotlib.pyplot as plt\n",
    "import pyarrow.parquet as pq\n",
    "from sklearn.model_selection import train_test_split\n",
    "from torch.utils.data import DataLoader\n",
    "\n",
    "import pathlib\n",
    "import gc\n",
    "\n",
    "random_state = 420\n",
    "\n",
    "gpu = torch.device(\"cuda:0\")\n",
    "cpu = torch.device(\"cpu\")"
   ]
  },
  {
   "cell_type": "code",
   "execution_count": 2,
   "metadata": {},
   "outputs": [],
   "source": [
    "data_path = pathlib.Path(\"../..\")\n",
    "\n",
    "#gammas = pd.read_parquet(data_path / \"data\" / \"magic-gammas-new-1.parquet\")[:20000]\n",
    "#protons = pd.read_parquet(data_path / \"data\" / \"magic-protons.parquet\")[0:20000]\n",
    "\n",
    "gammas = next(pq.ParquetFile(data_path / \"data\" / \"magic-gammas-new-1.parquet\").iter_batches(40000)).to_pandas()\n",
    "protons = next(pq.ParquetFile(data_path / \"data\" / \"magic-protons.parquet\").iter_batches(40000)).to_pandas()\n",
    "\n",
    "protons[\"class\"] = 0\n",
    "gammas[\"class\"] = 1\n",
    "\n",
    "protons = protons.dropna()\n",
    "gammas = gammas.dropna()\n",
    "\n",
    "dataset = pd.concat([gammas, protons])"
   ]
  },
  {
   "cell_type": "code",
   "execution_count": 3,
   "metadata": {},
   "outputs": [],
   "source": [
    "FEATURE_SIZE = 67\n",
    "\n",
    "X = dataset.iloc[:, 0:FEATURE_SIZE]\n",
    "y = dataset.iloc[:, -1]\n",
    "\n",
    "X_train, X_test, y_train, y_test = train_test_split(X, y, train_size=0.8, random_state=random_state, stratify=y)\n",
    "\n",
    "y_test = torch.from_numpy(y_test.values).float().to(cpu)\n",
    "y_train = torch.from_numpy(y_train.values).float().to(cpu)\n",
    "\n",
    "X_train_image_m1 = torch.from_numpy(np.array(X_train[\"clean_image_m1\"].tolist())).float().to(cpu)\n",
    "X_test_image_m1 = torch.from_numpy(np.array(X_test[\"clean_image_m1\"].tolist())).float().to(cpu)\n",
    "X_train_image_m2 = torch.from_numpy(np.array(X_train[\"clean_image_m2\"].tolist())).float().to(cpu)\n",
    "X_test_image_m2 = torch.from_numpy(np.array(X_test[\"clean_image_m2\"].tolist())).float().to(cpu)\n",
    "\n",
    "hillas_params = [\n",
    "    \"hillas_length_m1\",\n",
    "    \"hillas_width_m1\",\n",
    "    \"hillas_delta_m1\",\n",
    "    \"hillas_size_m1\",\n",
    "    \"hillas_cog_x_m1\",\n",
    "    \"hillas_cog_y_m1\",\n",
    "    \"hillas_sin_delta_m1\",\n",
    "    \"hillas_cos_delta_m1\",\n",
    "    \"hillas_length_m2\",\n",
    "    \"hillas_width_m2\",\n",
    "    \"hillas_delta_m2\",\n",
    "    \"hillas_size_m2\",\n",
    "    \"hillas_cog_x_m2\",\n",
    "    \"hillas_cog_y_m2\",\n",
    "    \"hillas_sin_delta_m2\",\n",
    "    \"hillas_cos_delta_m2\"\n",
    "]\n",
    "stereo_params = [\n",
    "    \"stereo_direction_x\",       \n",
    "    \"stereo_direction_y\",       \n",
    "    \"stereo_zenith\",            \n",
    "    \"stereo_azimuth\",           \n",
    "    \"stereo_dec\",               \n",
    "    \"stereo_ra\",                \n",
    "    \"stereo_theta2\",            \n",
    "    \"stereo_core_x\",            \n",
    "    \"stereo_core_y\",            \n",
    "    \"stereo_impact_m1\",         \n",
    "    \"stereo_impact_m2\",         \n",
    "    \"stereo_impact_azimuth_m1\", \n",
    "    \"stereo_impact_azimuth_m2\", \n",
    "    \"stereo_shower_max_height\", \n",
    "    \"stereo_xmax\",              \n",
    "    \"stereo_cherenkov_radius\",  \n",
    "    \"stereo_cherenkov_density\", \n",
    "    \"stereo_baseline_phi_m1\",   \n",
    "    \"stereo_baseline_phi_m2\",   \n",
    "    \"stereo_image_angle\",   \n",
    "    \"stereo_cos_between_shower\"\n",
    "]\n",
    "\n",
    "X_train_hillas = torch.from_numpy(X_train[hillas_params].values).float().to(cpu)\n",
    "X_test_hillas = torch.from_numpy(X_test[hillas_params].values).float().to(cpu)\n",
    "\n",
    "X_train_stereo = torch.from_numpy(X_train[stereo_params].values).float().to(cpu)\n",
    "X_test_stereo = torch.from_numpy(X_test[stereo_params].values).float().to(cpu)"
   ]
  },
  {
   "cell_type": "code",
   "execution_count": 4,
   "metadata": {},
   "outputs": [],
   "source": [
    "def combine(*features):\n",
    "    return torch.cat((*features,), 1)"
   ]
  },
  {
   "cell_type": "code",
   "execution_count": 5,
   "metadata": {},
   "outputs": [],
   "source": [
    "class MagicDataset(torch.utils.data.Dataset):\n",
    "    def __init__(self, X_train, y_train):\n",
    "        super(MagicDataset, self).__init__()\n",
    "\n",
    "        self.X_train = X_train\n",
    "        self.y_train = y_train\n",
    "\n",
    "    def __len__(self):\n",
    "        return self.y_train.shape[0]\n",
    "\n",
    "    def __getitem__(self, index):\n",
    "        return self.X_train[index], self.y_train[index]\n"
   ]
  },
  {
   "cell_type": "code",
   "execution_count": 6,
   "metadata": {},
   "outputs": [],
   "source": [
    "magic_dataset = MagicDataset(combine(X_train_image_m1, X_train_image_m2), y_train)"
   ]
  },
  {
   "cell_type": "code",
   "execution_count": 7,
   "metadata": {},
   "outputs": [
    {
     "data": {
      "text/plain": [
       "Sequential(\n",
       "  (0): Linear(in_features=2366, out_features=1039, bias=True)\n",
       "  (1): ReLU()\n",
       "  (2): Linear(in_features=1039, out_features=512, bias=True)\n",
       "  (3): ReLU()\n",
       "  (4): Linear(in_features=512, out_features=1, bias=True)\n",
       "  (5): Sigmoid()\n",
       ")"
      ]
     },
     "execution_count": 7,
     "metadata": {},
     "output_type": "execute_result"
    }
   ],
   "source": [
    "network = nn.Sequential(\n",
    "    nn.Linear(1183 * 2, 1039),\n",
    "    nn.ReLU(),\n",
    "    nn.Linear(1039, 512),\n",
    "    nn.ReLU(),\n",
    "    nn.Linear(512, 1),\n",
    "    nn.Sigmoid()\n",
    ").to(gpu)\n",
    "\n",
    "network"
   ]
  },
  {
   "cell_type": "code",
   "execution_count": 8,
   "metadata": {},
   "outputs": [],
   "source": [
    "loss = nn.BCELoss()\n",
    "\n",
    "optimizer = torch.optim.SGD(network.parameters(), lr=0.001)"
   ]
  },
  {
   "cell_type": "code",
   "execution_count": 9,
   "metadata": {},
   "outputs": [],
   "source": [
    "def train(model, loss, optimizer, epochs, X_train, y_train, X_test, y_test):\n",
    "    loss_history = np.zeros(shape=epochs)\n",
    "    accuracy_history = np.zeros(shape=epochs)\n",
    "    test_loss_history = np.zeros(shape=epochs)\n",
    "    test_accuracy_history = np.zeros(shape=epochs)\n",
    "    dataset = MagicDataset(X_train, y_train)\n",
    "\n",
    "    for epoch in range(epochs):\n",
    "        magic_dataloader = DataLoader(magic_dataset, batch_size=64)\n",
    "\n",
    "        for x, y in magic_dataloader:\n",
    "            prediction = model(x.to(gpu))[:, 0]\n",
    "        \n",
    "            epoch_loss = loss(prediction.to(float), y.to(gpu).to(float))\n",
    "            epoch_loss.backward()\n",
    "\n",
    "            optimizer.step()\n",
    "            optimizer.zero_grad()\n",
    "\n",
    "            loss_history[epoch] = epoch_loss.item()\n",
    "            class_predictions = ((prediction >= 0.5).float() == y.to(gpu)).float()\n",
    "            accuracy_history[epoch] = class_predictions.mean()\n",
    "\n",
    "        test_prediction = model(X_test.to(gpu))[:, 0]\n",
    "        test_loss_history[epoch] = loss(test_prediction.to(float), y_test.to(gpu).to(float))\n",
    "        test_class_predictions = ((test_prediction >= 0.5).float() == y_test.to(gpu)).float()\n",
    "        test_accuracy_history[epoch] = test_class_predictions.mean()\n",
    "\n",
    "\n",
    "        print(f\"Finished epoch {epoch} of {epochs}\")\n",
    "\n",
    "    return (loss_history, accuracy_history, test_loss_history, test_accuracy_history)\n"
   ]
  },
  {
   "cell_type": "code",
   "execution_count": 10,
   "metadata": {},
   "outputs": [
    {
     "name": "stdout",
     "output_type": "stream",
     "text": [
      "Finished epoch 0 of 50\n",
      "Finished epoch 1 of 50\n",
      "Finished epoch 2 of 50\n",
      "Finished epoch 3 of 50\n",
      "Finished epoch 4 of 50\n",
      "Finished epoch 5 of 50\n",
      "Finished epoch 6 of 50\n",
      "Finished epoch 7 of 50\n",
      "Finished epoch 8 of 50\n",
      "Finished epoch 9 of 50\n",
      "Finished epoch 10 of 50\n",
      "Finished epoch 11 of 50\n",
      "Finished epoch 12 of 50\n",
      "Finished epoch 13 of 50\n",
      "Finished epoch 14 of 50\n",
      "Finished epoch 15 of 50\n",
      "Finished epoch 16 of 50\n",
      "Finished epoch 17 of 50\n",
      "Finished epoch 18 of 50\n",
      "Finished epoch 19 of 50\n",
      "Finished epoch 20 of 50\n",
      "Finished epoch 21 of 50\n",
      "Finished epoch 22 of 50\n",
      "Finished epoch 23 of 50\n",
      "Finished epoch 24 of 50\n",
      "Finished epoch 25 of 50\n",
      "Finished epoch 26 of 50\n",
      "Finished epoch 27 of 50\n",
      "Finished epoch 28 of 50\n",
      "Finished epoch 29 of 50\n",
      "Finished epoch 30 of 50\n",
      "Finished epoch 31 of 50\n",
      "Finished epoch 32 of 50\n",
      "Finished epoch 33 of 50\n",
      "Finished epoch 34 of 50\n",
      "Finished epoch 35 of 50\n",
      "Finished epoch 36 of 50\n",
      "Finished epoch 37 of 50\n",
      "Finished epoch 38 of 50\n",
      "Finished epoch 39 of 50\n",
      "Finished epoch 40 of 50\n",
      "Finished epoch 41 of 50\n",
      "Finished epoch 42 of 50\n",
      "Finished epoch 43 of 50\n",
      "Finished epoch 44 of 50\n",
      "Finished epoch 45 of 50\n",
      "Finished epoch 46 of 50\n",
      "Finished epoch 47 of 50\n",
      "Finished epoch 48 of 50\n",
      "Finished epoch 49 of 50\n"
     ]
    }
   ],
   "source": [
    "loss, accuracy, test_loss, test_accuracy = train(network, loss, optimizer, 50, combine(X_train_image_m1, X_train_image_m2), y_train, combine(X_test_image_m1, X_test_image_m2), y_test)"
   ]
  },
  {
   "cell_type": "code",
   "execution_count": 12,
   "metadata": {},
   "outputs": [
    {
     "data": {
      "text/plain": [
       "[<matplotlib.lines.Line2D at 0x7f8efd8c3220>]"
      ]
     },
     "execution_count": 12,
     "metadata": {},
     "output_type": "execute_result"
    },
    {
     "data": {
      "image/png": "[encoded data removed]",
      "text/plain": [
       "<Figure size 640x480 with 1 Axes>"
      ]
     },
     "metadata": {},
     "output_type": "display_data"
    }
   ],
   "source": [
    "plt.plot(range(50), loss)\n",
    "plt.plot(range(50), test_loss)"
   ]
  },
  {
   "cell_type": "code",
   "execution_count": 13,
   "metadata": {},
   "outputs": [
    {
     "data": {
      "text/plain": [
       "[<matplotlib.lines.Line2D at 0x7f8efd78d2d0>]"
      ]
     },
     "execution_count": 13,
     "metadata": {},
     "output_type": "execute_result"
    },
    {
     "data": {
      "image/png": "[encoded data removed]",
      "text/plain": [
       "<Figure size 640x480 with 1 Axes>"
      ]
     },
     "metadata": {},
     "output_type": "display_data"
    }
   ],
   "source": [
    "plt.plot(range(50), accuracy)\n",
    "plt.plot(range(50), test_accuracy)"
   ]
  },
  {
   "cell_type": "code",
   "execution_count": null,
   "metadata": {},
   "outputs": [],
   "source": []
  }
 ],
 "metadata": {
  "kernelspec": {
   "display_name": "Python (MAGICuda)",
   "language": "python",
   "name": "magicuda"
  },
  "language_info": {
   "codemirror_mode": {
    "name": "ipython",
    "version": 3
   },
   "file_extension": ".py",
   "mimetype": "text/x-python",
   "name": "python",
   "nbconvert_exporter": "python",
   "pygments_lexer": "ipython3",
   "version": "3.10.16"
  }
 },
 "nbformat": 4,
 "nbformat_minor": 2
}
