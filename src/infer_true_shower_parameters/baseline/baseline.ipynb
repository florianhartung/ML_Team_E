{
 "cells": [
  {
   "cell_type": "markdown",
   "metadata": {},
   "source": [
    "# True Shower Regression Baseline\n",
    "\n",
    "Create a baseline using a simple ML algorithm to predict/infer the true shower parameters using a simple ML algorithm\n",
    "- using clean_image_\\*\\_m1 and clean_image_\\*\\_m2 independently\n",
    "- by combining both clean_image_* features with \"hillas\" and/or \"stereo\"\n",
    "\n",
    "Linear regression, decision tree regression and random forrest regression will be used.\n",
    "Polynomial regression will not be used, because it takes too long on the CPU and takes up too much space on the GPU."
   ]
  },
  {
   "cell_type": "code",
   "execution_count": 2,
   "metadata": {},
   "outputs": [],
   "source": [
    "import pandas as pd\n",
    "import torch\n",
    "from torch.utils.data import random_split\n",
    "import matplotlib.pyplot as plt\n",
    "import numpy as np\n",
    "import pyarrow.parquet as pq\n",
    "\n",
    "import math\n",
    "import sys\n",
    "import os\n",
    "import importlib\n",
    "\n",
    "sys.path.append(\"../../../magic-ml-images\")\n",
    "from magicdl import magic\n",
    "\n",
    "sys.path.append(\"../..\")\n",
    "\n",
    "SEED = 42\n",
    "gen = torch.Generator().manual_seed(SEED)"
   ]
  },
  {
   "cell_type": "markdown",
   "metadata": {},
   "source": [
    "## Load and prepare data"
   ]
  },
  {
   "cell_type": "code",
   "execution_count": 3,
   "metadata": {},
   "outputs": [],
   "source": [
    "gammas = pd.read_parquet(\"../../../data/magic-gammas-new-1.parquet\")\n",
    "protons = pd.read_parquet(\"../../../data/magic-protons.parquet\")"
   ]
  },
  {
   "cell_type": "code",
   "execution_count": 4,
   "metadata": {},
   "outputs": [],
   "source": [
    "gammas = gammas.dropna()\n",
    "protons = protons.dropna()"
   ]
  },
  {
   "cell_type": "code",
   "execution_count": 5,
   "metadata": {},
   "outputs": [],
   "source": [
    "NUM_PIXELS = 1183\n",
    "\n",
    "ts_params = [\n",
    "    \"true_energy\", \n",
    "    \"true_theta\",\n",
    "    \"true_phi\", \n",
    "    \"true_telescope_theta\", \n",
    "    \"true_telescope_phi\",\n",
    "    \"true_first_interaction_height\",\n",
    "    \"true_impact_m1\",\n",
    "    \"true_impact_m2\"\n",
    "]\n",
    "hillas_params = [\n",
    "    \"hillas_length_m1\",\n",
    "    \"hillas_width_m1\",\n",
    "    \"hillas_delta_m1\",\n",
    "    \"hillas_size_m1\",\n",
    "    \"hillas_cog_x_m1\",\n",
    "    \"hillas_cog_y_m1\",\n",
    "    \"hillas_sin_delta_m1\",\n",
    "    \"hillas_cos_delta_m1\",\n",
    "    \"hillas_length_m2\",\n",
    "    \"hillas_width_m2\",\n",
    "    \"hillas_delta_m2\",\n",
    "    \"hillas_size_m2\",\n",
    "    \"hillas_cog_x_m2\",\n",
    "    \"hillas_cog_y_m2\",\n",
    "    \"hillas_sin_delta_m2\",\n",
    "    \"hillas_cos_delta_m2\"\n",
    "]\n",
    "stereo_params = [\n",
    "    \"stereo_direction_x\",       \n",
    "    \"stereo_direction_y\",       \n",
    "    \"stereo_zenith\",            \n",
    "    \"stereo_azimuth\",           \n",
    "    \"stereo_dec\",               \n",
    "    \"stereo_ra\",                \n",
    "    \"stereo_theta2\",            \n",
    "    \"stereo_core_x\",            \n",
    "    \"stereo_core_y\",            \n",
    "    \"stereo_impact_m1\",         \n",
    "    \"stereo_impact_m2\",         \n",
    "    \"stereo_impact_azimuth_m1\", \n",
    "    \"stereo_impact_azimuth_m2\", \n",
    "    \"stereo_shower_max_height\", \n",
    "    \"stereo_xmax\",              \n",
    "    \"stereo_cherenkov_radius\",  \n",
    "    \"stereo_cherenkov_density\", \n",
    "    \"stereo_baseline_phi_m1\",   \n",
    "    \"stereo_baseline_phi_m2\",   \n",
    "    \"stereo_image_angle\",   \n",
    "    \"stereo_cos_between_shower\"\n",
    "]\n",
    "\n",
    "# split the dataset:\n",
    "\n",
    "num_protons = len(protons)\n",
    "num_gammas = len(gammas)\n",
    "\n",
    "TRAIN_PORTION = 0.6\n",
    "TEST_PORTION = 0.2\n",
    "# VAL_PORTION is the rest\n",
    "\n",
    "train_size_protons = int(TRAIN_PORTION * num_protons)\n",
    "test_size_protons = int(TEST_PORTION * num_protons)\n",
    "val_size_protons = num_protons - train_size_protons - test_size_protons\n",
    "\n",
    "train_size_gammas = int(TRAIN_PORTION * num_gammas)\n",
    "test_size_gammas = int(TEST_PORTION * num_gammas)\n",
    "val_size_gammas = num_gammas - train_size_gammas - test_size_gammas\n",
    "\n",
    "protons_indices = torch.randperm(num_protons, generator=gen)\n",
    "gammas_indices = torch.randperm(num_gammas, generator=gen)\n",
    "\n",
    "protons_train_indices = protons_indices[:train_size_protons]\n",
    "protons_val_indices = protons_indices[train_size_protons:train_size_protons+val_size_protons]\n",
    "protons_test_indices = protons_indices[train_size_protons+val_size_protons:]\n",
    "\n",
    "gammas_train_indices = gammas_indices[:train_size_gammas]\n",
    "gammas_val_indices = gammas_indices[train_size_gammas:train_size_gammas+val_size_gammas]\n",
    "gammas_test_indices = gammas_indices[train_size_gammas+val_size_gammas:]\n",
    "\n",
    "protons_train = protons.iloc[protons_train_indices]\n",
    "protons_val = protons.iloc[protons_val_indices]\n",
    "protons_test = protons.iloc[protons_test_indices]\n",
    "gammas_train = gammas.iloc[gammas_train_indices]\n",
    "gammas_val = gammas.iloc[gammas_val_indices]\n",
    "gammas_test = gammas.iloc[gammas_test_indices]\n",
    "\n",
    "# protons_ts = protons[ts_params]\n",
    "# gammas_ts = gammas[ts_params]\n",
    "# protons_clean1 = protons[\"clean_image_m1\"]\n",
    "# gammas_clean1 = gammas[\"clean_image_m1\"]\n",
    "# protons_clean2 = protons[\"clean_image_m2\"]\n",
    "# gammas_clean2 = gammas[\"clean_image_m2\"]\n",
    "# protons_hillas = protons[hillas_params]\n",
    "# gammas_hillas = gammas[hillas_params]\n",
    "# protons_stereo = protons[stereo_params]\n",
    "# gammas_stereo = gammas[stereo_params]\n",
    "\n",
    "y_protons_train = protons_train[ts_params]\n",
    "y_protons_val = protons_val[ts_params]\n",
    "y_protons_test = protons_test[ts_params]\n",
    "y_gammas_train = gammas_train[ts_params]\n",
    "y_gammas_val = gammas_val[ts_params]\n",
    "y_gammas_test = gammas_test[ts_params]\n",
    "\n",
    "# normalise data:\n",
    "\n",
    "from sklearn.preprocessing import StandardScaler\n",
    "\n",
    "def normalise(train, val, test):\n",
    "    scaler = StandardScaler()\n",
    "    train_new = scaler.fit_transform(train.copy())\n",
    "    val_new = scaler.transform(val)\n",
    "    test_new = scaler.transform(test)\n",
    "    return (train_new, val_new, test_new), scaler\n",
    "\n",
    "(y_protons_train, y_protons_val, y_protons_test), y_proton_scaler = normalise(y_protons_train, y_protons_val, y_protons_test)\n",
    "\n",
    "(y_gammas_train, y_gammas_val, y_gammas_test), y_gamma_scaler = normalise(y_gammas_train, y_gammas_val, y_gammas_test)\n"
   ]
  },
  {
   "cell_type": "markdown",
   "metadata": {},
   "source": [
    "import models\n"
   ]
  },
  {
   "cell_type": "code",
   "execution_count": 6,
   "metadata": {},
   "outputs": [],
   "source": [
    "import linear_regression\n",
    "importlib.reload(linear_regression)\n",
    "from linear_regression import LinearRegression\n",
    "\n",
    "import decision_tree_regression\n",
    "importlib.reload(decision_tree_regression)\n",
    "from decision_tree_regression import DecisionTreeRegression, DecisionTreesRegression\n",
    "\n",
    "import random_forest_regression\n",
    "importlib.reload(random_forest_regression)\n",
    "from random_forest_regression import RandomForestRegression, RandomForestsRegression"
   ]
  },
  {
   "cell_type": "markdown",
   "metadata": {},
   "source": [
    "### Functions for establishing the baseline:"
   ]
  },
  {
   "cell_type": "code",
   "execution_count": 7,
   "metadata": {},
   "outputs": [],
   "source": [
    "def mse(pred, actual):\n",
    "    if type(pred) == torch.Tensor:\n",
    "        p = pred.cpu().numpy()\n",
    "    else:\n",
    "        p = pred\n",
    "    if type(actual) == torch.Tensor:\n",
    "        a = actual.cpu().numpy()\n",
    "    else:\n",
    "        a = actual\n",
    "    return np.mean((p - a)**2)\n",
    "\n",
    "def r_sq(pred, actual):\n",
    "    if type(pred) == torch.Tensor:\n",
    "        p = pred.cpu().numpy()\n",
    "    else:\n",
    "        p = pred\n",
    "    if type(actual) == torch.Tensor:\n",
    "        a = actual.cpu().numpy()\n",
    "    else:\n",
    "        a = actual\n",
    "    ss_res = np.sum((p - a)**2)\n",
    "    ss_tot = np.sum((a - np.mean(a, axis=0))**2)\n",
    "    return 1 - (ss_res / ss_tot)"
   ]
  },
  {
   "cell_type": "code",
   "execution_count": null,
   "metadata": {},
   "outputs": [],
   "source": [
    "def optimise(x_train, y_train, x_val, y_val, epsilon=2e-3, verbose=False):\n",
    "\n",
    "    # Hyperparameter-Bereiche\n",
    "    max_depths = [3, 5, 10, 20, 40, 75]\n",
    "    n_trees_values = [50, 100, 200, 400, 800, 1500]\n",
    "    \n",
    "    best_params = {}\n",
    "    \n",
    "    model = DecisionTreeRegression()\n",
    "    if verbose:\n",
    "        print(\"Optimising DecisionTree...\")\n",
    "    best_r2 = -float('inf')\n",
    "    best_depth = None\n",
    "    for depth in max_depths:\n",
    "        if verbose:\n",
    "            print(f\"Testing depth {depth}\")\n",
    "        model.set_params(max_depth=depth)\n",
    "        model.fit(x_train, y_train)\n",
    "        r2 = r_sq(model.predict(x_val), y_val)\n",
    "        if r2 > best_r2:\n",
    "            best_r2, best_depth = r2, depth\n",
    "    best_params[\"DecisionTreeRegression\"] = best_params[\"DecisionTreesRegression\"] = {\"max_depth\": best_depth}\n",
    "    \n",
    "    model = RandomForestRegression()\n",
    "    if verbose:\n",
    "        print(\"Optimising RandomForest...\")\n",
    "    best_r2 = -float('inf')\n",
    "    best_depth, best_n_trees = None, None\n",
    "    for depth in max_depths:\n",
    "        current_iter_best_r2 = -float('inf')\n",
    "        current_iter_best_n_trees = None\n",
    "        for n_trees in n_trees_values:\n",
    "            if verbose:\n",
    "                print(f\"Testing depth {depth} and n_trees {n_trees}\")\n",
    "            model.set_params(max_depth=depth, n_trees=n_trees)\n",
    "            model.fit(x_train, y_train)\n",
    "            r2 = r_sq(model.predict(x_val), y_val)\n",
    "            if verbose:\n",
    "                print(f\"R^2 Score: {r2}\")\n",
    "            if r2 - current_iter_best_r2 > epsilon:\n",
    "                print(f\"Improvement: {r2-best_r2}\")\n",
    "                current_iter_best_r2 = r2\n",
    "                current_iter_best_n_trees = n_trees\n",
    "            else:\n",
    "                break \n",
    "        if current_iter_best_r2 > best_r2:\n",
    "                best_r2 = current_iter_best_r2\n",
    "                best_depth, best_n_trees = depth, current_iter_best_n_trees\n",
    "\n",
    "    best_params[\"RandomForestRegression\"] = best_params[\"RandomForestsRegression\"] = {\"max_depth\": best_depth, \"n_trees\": best_n_trees}\n",
    "\n",
    "    return best_params\n"
   ]
  },
  {
   "cell_type": "markdown",
   "metadata": {},
   "source": [
    "_(Anmerkung: $\\alpha$-Parameter hier weggelassen, da bei $\\alpha = 0$ die besten Ergebnisse erzielt wurden)_"
   ]
  },
  {
   "cell_type": "code",
   "execution_count": null,
   "metadata": {},
   "outputs": [],
   "source": [
    "import matplotlib.pyplot as plt\n",
    "import seaborn as sns\n",
    "from IPython.display import display\n",
    "\n",
    "def compare_models(x_train, y_train, x_val, y_val, x_test, y_test, hyperparams, final=False, verbose=True):\n",
    "    models = {\n",
    "        \"LinearRegression\": LinearRegression(len(x_train[0])),\n",
    "        \"DecisionTreeRegression\": DecisionTreeRegression(),\n",
    "        \"RandomForestRegression\": RandomForestRegression(),\n",
    "    }\n",
    "    \n",
    "    # Auswahl der Evaluationsdaten\n",
    "    x_eval, y_eval = (x_test, y_test) if final else (x_val, y_val)\n",
    "    \n",
    "    results = {}\n",
    "    \n",
    "    for name, model in models.items():\n",
    "        if verbose:\n",
    "            print(f\"Training {name}...\")\n",
    "    \n",
    "        if \"DecisionTree\" in name or \"RandomForest\" in name:\n",
    "            model.set_params(**(hyperparams[name]))\n",
    "        \n",
    "        model.fit(x_train, y_train)\n",
    "        y_train_pred, y_eval_pred = model.predict(x_train), model.predict(x_eval)\n",
    "        results[name] = {\n",
    "            \"MSE Train\": mse(y_train_pred, y_train),\n",
    "            \"MSE Eval\": mse(y_eval_pred, y_eval),\n",
    "            \"R^2 Train\": r_sq(y_train_pred, y_train),\n",
    "            \"R^2 Eval\": r_sq(y_eval_pred, y_eval)\n",
    "        }\n",
    "    \n",
    "    df_results = pd.DataFrame(results).T\n",
    "    display(df_results)\n",
    "    if verbose:\n",
    "        print(\"Vergleich abgeschlossen.\")\n"
   ]
  },
  {
   "cell_type": "markdown",
   "metadata": {},
   "source": [
    "## Using only cleaned image m1\n",
    "### Protons"
   ]
  },
  {
   "cell_type": "code",
   "execution_count": 33,
   "metadata": {},
   "outputs": [],
   "source": [
    "y_train = torch.tensor(y_protons_train, dtype=torch.float32)\n",
    "y_val = torch.tensor(y_protons_val, dtype=torch.float32)\n",
    "y_test = torch.tensor(y_protons_test, dtype=torch.float32)\n",
    "\n",
    "X_train = np.array(protons_train[\"clean_image_m1\"].tolist())\n",
    "X_val = np.array(protons_val[\"clean_image_m1\"].tolist())\n",
    "X_test = np.array(protons_test[\"clean_image_m1\"].tolist())\n",
    "\n",
    "(X_train, X_val, X_test), _ = normalise(X_train, X_val, X_test)\n",
    "\n",
    "X_train = torch.tensor(X_train, dtype=torch.float32)\n",
    "X_val = torch.tensor(X_val, dtype=torch.float32)\n",
    "X_test = torch.tensor(X_test, dtype=torch.float32)"
   ]
  },
  {
   "cell_type": "code",
   "execution_count": null,
   "metadata": {},
   "outputs": [],
   "source": [
    "# best_params = optimise(X_train, y_train, X_val, y_val, verbose=True)\n",
    "# with open(\"./params.txt\", \"w\") as f:\n",
    "#     f.write(str(best_params))\n",
    "\n",
    "best_params = {\n",
    "    \"DecisionTreeRegression\": {\"max_depth\": 5},\n",
    "    \"RandomForestRegression\": {\"max_depth\": 40, \"n_trees\": 800}\n",
    "}\n"
   ]
  },
  {
   "cell_type": "code",
   "execution_count": 35,
   "metadata": {},
   "outputs": [
    {
     "name": "stdout",
     "output_type": "stream",
     "text": [
      "Training LinearRegression...\n",
      "Training DecisionTreeRegression...\n",
      "Training RandomForestRegression...\n"
     ]
    },
    {
     "data": {
      "text/html": [
       "<div>\n",
       "<style scoped>\n",
       "    .dataframe tbody tr th:only-of-type {\n",
       "        vertical-align: middle;\n",
       "    }\n",
       "\n",
       "    .dataframe tbody tr th {\n",
       "        vertical-align: top;\n",
       "    }\n",
       "\n",
       "    .dataframe thead th {\n",
       "        text-align: right;\n",
       "    }\n",
       "</style>\n",
       "<table border=\"1\" class=\"dataframe\">\n",
       "  <thead>\n",
       "    <tr style=\"text-align: right;\">\n",
       "      <th></th>\n",
       "      <th>MSE Train</th>\n",
       "      <th>MSE Eval</th>\n",
       "      <th>R^2 Train</th>\n",
       "      <th>R^2 Eval</th>\n",
       "    </tr>\n",
       "  </thead>\n",
       "  <tbody>\n",
       "    <tr>\n",
       "      <th>LinearRegression</th>\n",
       "      <td>0.976700</td>\n",
       "      <td>0.981219</td>\n",
       "      <td>0.023300</td>\n",
       "      <td>0.016937</td>\n",
       "    </tr>\n",
       "    <tr>\n",
       "      <th>DecisionTreeRegression</th>\n",
       "      <td>0.968812</td>\n",
       "      <td>0.977295</td>\n",
       "      <td>0.031188</td>\n",
       "      <td>0.020868</td>\n",
       "    </tr>\n",
       "    <tr>\n",
       "      <th>RandomForestRegression</th>\n",
       "      <td>0.521970</td>\n",
       "      <td>0.938671</td>\n",
       "      <td>0.478030</td>\n",
       "      <td>0.059565</td>\n",
       "    </tr>\n",
       "  </tbody>\n",
       "</table>\n",
       "</div>"
      ],
      "text/plain": [
       "                        MSE Train  MSE Eval  R^2 Train  R^2 Eval\n",
       "LinearRegression         0.976700  0.981219   0.023300  0.016937\n",
       "DecisionTreeRegression   0.968812  0.977295   0.031188  0.020868\n",
       "RandomForestRegression   0.521970  0.938671   0.478030  0.059565"
      ]
     },
     "metadata": {},
     "output_type": "display_data"
    },
    {
     "name": "stdout",
     "output_type": "stream",
     "text": [
      "Vergleich abgeschlossen.\n"
     ]
    }
   ],
   "source": [
    "compare_models(X_train, y_train, X_val, y_val, X_test, y_test, best_params)"
   ]
  },
  {
   "cell_type": "markdown",
   "metadata": {},
   "source": [
    "### Gammas\n"
   ]
  },
  {
   "cell_type": "code",
   "execution_count": 43,
   "metadata": {},
   "outputs": [],
   "source": [
    "y_train = torch.tensor(y_gammas_train, dtype=torch.float32)\n",
    "y_val = torch.tensor(y_gammas_val, dtype=torch.float32)\n",
    "y_test = torch.tensor(y_gammas_test, dtype=torch.float32)\n",
    "\n",
    "X_train = np.array(gammas_train[\"clean_image_m1\"].tolist())\n",
    "X_val = np.array(gammas_val[\"clean_image_m1\"].tolist())\n",
    "X_test = np.array(gammas_test[\"clean_image_m1\"].tolist())\n",
    "\n",
    "(X_train, X_val, X_test), _ = normalise(X_train, X_val, X_test)\n",
    "\n",
    "X_train = torch.tensor(X_train, dtype=torch.float32)\n",
    "X_val = torch.tensor(X_val, dtype=torch.float32)\n",
    "X_test = torch.tensor(X_test, dtype=torch.float32)"
   ]
  },
  {
   "cell_type": "code",
   "execution_count": null,
   "metadata": {},
   "outputs": [
    {
     "name": "stdout",
     "output_type": "stream",
     "text": [
      "Training LinearRegression...\n",
      "Training DecisionTreeRegression...\n",
      "Training RandomForestRegression...\n"
     ]
    },
    {
     "data": {
      "text/html": [
       "<div>\n",
       "<style scoped>\n",
       "    .dataframe tbody tr th:only-of-type {\n",
       "        vertical-align: middle;\n",
       "    }\n",
       "\n",
       "    .dataframe tbody tr th {\n",
       "        vertical-align: top;\n",
       "    }\n",
       "\n",
       "    .dataframe thead th {\n",
       "        text-align: right;\n",
       "    }\n",
       "</style>\n",
       "<table border=\"1\" class=\"dataframe\">\n",
       "  <thead>\n",
       "    <tr style=\"text-align: right;\">\n",
       "      <th></th>\n",
       "      <th>MSE Train</th>\n",
       "      <th>MSE Eval</th>\n",
       "      <th>R^2 Train</th>\n",
       "      <th>R^2 Eval</th>\n",
       "    </tr>\n",
       "  </thead>\n",
       "  <tbody>\n",
       "    <tr>\n",
       "      <th>LinearRegression</th>\n",
       "      <td>0.945367</td>\n",
       "      <td>0.949454</td>\n",
       "      <td>0.054633</td>\n",
       "      <td>0.050092</td>\n",
       "    </tr>\n",
       "    <tr>\n",
       "      <th>DecisionTreeRegression</th>\n",
       "      <td>0.958387</td>\n",
       "      <td>0.961050</td>\n",
       "      <td>0.041613</td>\n",
       "      <td>0.038491</td>\n",
       "    </tr>\n",
       "    <tr>\n",
       "      <th>RandomForestRegression</th>\n",
       "      <td>0.451809</td>\n",
       "      <td>0.858126</td>\n",
       "      <td>0.548191</td>\n",
       "      <td>0.141464</td>\n",
       "    </tr>\n",
       "  </tbody>\n",
       "</table>\n",
       "</div>"
      ],
      "text/plain": [
       "                        MSE Train  MSE Eval  R^2 Train  R^2 Eval\n",
       "LinearRegression         0.945367  0.949454   0.054633  0.050092\n",
       "DecisionTreeRegression   0.958387  0.961050   0.041613  0.038491\n",
       "RandomForestRegression   0.451809  0.858126   0.548191  0.141464"
      ]
     },
     "metadata": {},
     "output_type": "display_data"
    },
    {
     "name": "stdout",
     "output_type": "stream",
     "text": [
      "Vergleich abgeschlossen.\n"
     ]
    },
    {
     "ename": "",
     "evalue": "",
     "output_type": "error",
     "traceback": [
      "\u001b[1;31mThe Kernel crashed while executing code in the current cell or a previous cell. \n",
      "\u001b[1;31mPlease review the code in the cell(s) to identify a possible cause of the failure. \n",
      "\u001b[1;31mClick <a href='https://aka.ms/vscodeJupyterKernelCrash'>here</a> for more info. \n",
      "\u001b[1;31mView Jupyter <a href='command:jupyter.viewOutput'>log</a> for further details."
     ]
    }
   ],
   "source": [
    "compare_models(X_train, y_train, X_val, y_val, X_test, y_test, best_params)"
   ]
  },
  {
   "cell_type": "markdown",
   "metadata": {},
   "source": [
    "## Using only cleaned image m2\n",
    "### Protons"
   ]
  },
  {
   "cell_type": "code",
   "execution_count": 12,
   "metadata": {},
   "outputs": [],
   "source": [
    "y_train = torch.tensor(y_protons_train, dtype=torch.float32)\n",
    "y_val = torch.tensor(y_protons_val, dtype=torch.float32)\n",
    "y_test = torch.tensor(y_protons_test, dtype=torch.float32)\n",
    "\n",
    "X_train = np.array(protons_train[\"clean_image_m2\"].tolist())\n",
    "X_val = np.array(protons_val[\"clean_image_m2\"].tolist())\n",
    "X_test = np.array(protons_test[\"clean_image_m2\"].tolist())\n",
    "\n",
    "(X_train, X_val, X_test), _ = normalise(X_train, X_val, X_test)\n",
    "\n",
    "X_train = torch.tensor(X_train, dtype=torch.float32)\n",
    "X_val = torch.tensor(X_val, dtype=torch.float32)\n",
    "X_test = torch.tensor(X_test, dtype=torch.float32)"
   ]
  },
  {
   "cell_type": "code",
   "execution_count": 16,
   "metadata": {},
   "outputs": [
    {
     "name": "stdout",
     "output_type": "stream",
     "text": [
      "Training LinearRegression...\n",
      "Training DecisionTreeRegression...\n",
      "Training RandomForestRegression...\n"
     ]
    },
    {
     "data": {
      "text/html": [
       "<div>\n",
       "<style scoped>\n",
       "    .dataframe tbody tr th:only-of-type {\n",
       "        vertical-align: middle;\n",
       "    }\n",
       "\n",
       "    .dataframe tbody tr th {\n",
       "        vertical-align: top;\n",
       "    }\n",
       "\n",
       "    .dataframe thead th {\n",
       "        text-align: right;\n",
       "    }\n",
       "</style>\n",
       "<table border=\"1\" class=\"dataframe\">\n",
       "  <thead>\n",
       "    <tr style=\"text-align: right;\">\n",
       "      <th></th>\n",
       "      <th>MSE Train</th>\n",
       "      <th>MSE Eval</th>\n",
       "      <th>R^2 Train</th>\n",
       "      <th>R^2 Eval</th>\n",
       "    </tr>\n",
       "  </thead>\n",
       "  <tbody>\n",
       "    <tr>\n",
       "      <th>LinearRegression</th>\n",
       "      <td>0.977307</td>\n",
       "      <td>0.980731</td>\n",
       "      <td>0.022693</td>\n",
       "      <td>0.017426</td>\n",
       "    </tr>\n",
       "    <tr>\n",
       "      <th>DecisionTreeRegression</th>\n",
       "      <td>0.968114</td>\n",
       "      <td>0.979066</td>\n",
       "      <td>0.031886</td>\n",
       "      <td>0.019094</td>\n",
       "    </tr>\n",
       "    <tr>\n",
       "      <th>RandomForestRegression</th>\n",
       "      <td>0.517030</td>\n",
       "      <td>0.939094</td>\n",
       "      <td>0.482970</td>\n",
       "      <td>0.059141</td>\n",
       "    </tr>\n",
       "  </tbody>\n",
       "</table>\n",
       "</div>"
      ],
      "text/plain": [
       "                        MSE Train  MSE Eval  R^2 Train  R^2 Eval\n",
       "LinearRegression         0.977307  0.980731   0.022693  0.017426\n",
       "DecisionTreeRegression   0.968114  0.979066   0.031886  0.019094\n",
       "RandomForestRegression   0.517030  0.939094   0.482970  0.059141"
      ]
     },
     "metadata": {},
     "output_type": "display_data"
    },
    {
     "name": "stdout",
     "output_type": "stream",
     "text": [
      "Vergleich abgeschlossen.\n"
     ]
    }
   ],
   "source": [
    "compare_models(X_train, y_train, X_val, y_val, X_test, y_test, best_params)"
   ]
  },
  {
   "cell_type": "markdown",
   "metadata": {},
   "source": [
    "### Gammas"
   ]
  },
  {
   "cell_type": "code",
   "execution_count": 18,
   "metadata": {},
   "outputs": [],
   "source": [
    "y_train = torch.tensor(y_gammas_train, dtype=torch.float32)\n",
    "y_val = torch.tensor(y_gammas_val, dtype=torch.float32)\n",
    "y_test = torch.tensor(y_gammas_test, dtype=torch.float32)\n",
    "\n",
    "X_train = np.array(gammas_train[\"clean_image_m2\"].tolist())\n",
    "X_val = np.array(gammas_val[\"clean_image_m2\"].tolist())\n",
    "X_test = np.array(gammas_test[\"clean_image_m2\"].tolist())\n",
    "\n",
    "(X_train, X_val, X_test), _ = normalise(X_train, X_val, X_test)\n",
    "\n",
    "X_train = torch.tensor(X_train, dtype=torch.float32)\n",
    "X_val = torch.tensor(X_val, dtype=torch.float32)\n",
    "X_test = torch.tensor(X_test, dtype=torch.float32)"
   ]
  },
  {
   "cell_type": "code",
   "execution_count": 19,
   "metadata": {},
   "outputs": [
    {
     "name": "stdout",
     "output_type": "stream",
     "text": [
      "Training LinearRegression...\n",
      "Training DecisionTreeRegression...\n",
      "Training RandomForestRegression...\n"
     ]
    },
    {
     "data": {
      "text/html": [
       "<div>\n",
       "<style scoped>\n",
       "    .dataframe tbody tr th:only-of-type {\n",
       "        vertical-align: middle;\n",
       "    }\n",
       "\n",
       "    .dataframe tbody tr th {\n",
       "        vertical-align: top;\n",
       "    }\n",
       "\n",
       "    .dataframe thead th {\n",
       "        text-align: right;\n",
       "    }\n",
       "</style>\n",
       "<table border=\"1\" class=\"dataframe\">\n",
       "  <thead>\n",
       "    <tr style=\"text-align: right;\">\n",
       "      <th></th>\n",
       "      <th>MSE Train</th>\n",
       "      <th>MSE Eval</th>\n",
       "      <th>R^2 Train</th>\n",
       "      <th>R^2 Eval</th>\n",
       "    </tr>\n",
       "  </thead>\n",
       "  <tbody>\n",
       "    <tr>\n",
       "      <th>LinearRegression</th>\n",
       "      <td>0.944741</td>\n",
       "      <td>0.947654</td>\n",
       "      <td>0.055259</td>\n",
       "      <td>0.051893</td>\n",
       "    </tr>\n",
       "    <tr>\n",
       "      <th>DecisionTreeRegression</th>\n",
       "      <td>0.955784</td>\n",
       "      <td>0.958725</td>\n",
       "      <td>0.044216</td>\n",
       "      <td>0.040817</td>\n",
       "    </tr>\n",
       "    <tr>\n",
       "      <th>RandomForestRegression</th>\n",
       "      <td>0.458797</td>\n",
       "      <td>0.857775</td>\n",
       "      <td>0.541203</td>\n",
       "      <td>0.141815</td>\n",
       "    </tr>\n",
       "  </tbody>\n",
       "</table>\n",
       "</div>"
      ],
      "text/plain": [
       "                        MSE Train  MSE Eval  R^2 Train  R^2 Eval\n",
       "LinearRegression         0.944741  0.947654   0.055259  0.051893\n",
       "DecisionTreeRegression   0.955784  0.958725   0.044216  0.040817\n",
       "RandomForestRegression   0.458797  0.857775   0.541203  0.141815"
      ]
     },
     "metadata": {},
     "output_type": "display_data"
    },
    {
     "name": "stdout",
     "output_type": "stream",
     "text": [
      "Vergleich abgeschlossen.\n"
     ]
    }
   ],
   "source": [
    "compare_models(X_train, y_train, X_val, y_val, X_test, y_test, best_params)"
   ]
  },
  {
   "cell_type": "markdown",
   "metadata": {},
   "source": [
    "## Using both cleaned images\n",
    "### Protons"
   ]
  },
  {
   "cell_type": "code",
   "execution_count": 11,
   "metadata": {},
   "outputs": [],
   "source": [
    "y_train = torch.tensor(y_protons_train, dtype=torch.float32)\n",
    "y_val = torch.tensor(y_protons_val, dtype=torch.float32)\n",
    "y_test = torch.tensor(y_protons_test, dtype=torch.float32)\n",
    "\n",
    "X_train = np.concatenate([protons_train[\"clean_image_m1\"].tolist(), protons_train[\"clean_image_m2\"].tolist()], axis=1)\n",
    "X_val = np.concatenate([protons_val[\"clean_image_m1\"].tolist(), protons_val[\"clean_image_m2\"].tolist()], axis=1)\n",
    "X_test = np.concatenate([protons_test[\"clean_image_m1\"].tolist(), protons_test[\"clean_image_m2\"].tolist()], axis=1)\n",
    "\n",
    "(X_train, X_val, X_test), _ = normalise(X_train, X_val, X_test)\n",
    "\n",
    "X_train = torch.tensor(X_train, dtype=torch.float32)\n",
    "X_val = torch.tensor(X_val, dtype=torch.float32)\n",
    "X_test = torch.tensor(X_test, dtype=torch.float32)"
   ]
  },
  {
   "cell_type": "code",
   "execution_count": 36,
   "metadata": {},
   "outputs": [],
   "source": [
    "# best_params = optimise(X_train, y_train, X_val, y_val, verbose=True)\n",
    "# with open(\"./params.txt\", \"w\") as f:\n",
    "#     f.write(str(best_params))\n",
    "\n",
    "best_params = {'DecisionTreeRegression': {'max_depth': 5}, 'DecisionTreesRegression': {'max_depth': 5}, 'RandomForestRegression': {'max_depth': 40, 'n_trees': 400}, 'RandomForestsRegression': {'max_depth': 40, 'n_trees': 400}}"
   ]
  },
  {
   "cell_type": "code",
   "execution_count": 13,
   "metadata": {},
   "outputs": [
    {
     "name": "stdout",
     "output_type": "stream",
     "text": [
      "Training LinearRegression...\n",
      "Training DecisionTreeRegression...\n",
      "Training RandomForestRegression...\n"
     ]
    },
    {
     "data": {
      "text/html": [
       "<div>\n",
       "<style scoped>\n",
       "    .dataframe tbody tr th:only-of-type {\n",
       "        vertical-align: middle;\n",
       "    }\n",
       "\n",
       "    .dataframe tbody tr th {\n",
       "        vertical-align: top;\n",
       "    }\n",
       "\n",
       "    .dataframe thead th {\n",
       "        text-align: right;\n",
       "    }\n",
       "</style>\n",
       "<table border=\"1\" class=\"dataframe\">\n",
       "  <thead>\n",
       "    <tr style=\"text-align: right;\">\n",
       "      <th></th>\n",
       "      <th>MSE Train</th>\n",
       "      <th>MSE Eval</th>\n",
       "      <th>R^2 Train</th>\n",
       "      <th>R^2 Eval</th>\n",
       "    </tr>\n",
       "  </thead>\n",
       "  <tbody>\n",
       "    <tr>\n",
       "      <th>LinearRegression</th>\n",
       "      <td>0.965751</td>\n",
       "      <td>0.977358</td>\n",
       "      <td>0.034249</td>\n",
       "      <td>0.020805</td>\n",
       "    </tr>\n",
       "    <tr>\n",
       "      <th>DecisionTreeRegression</th>\n",
       "      <td>0.966340</td>\n",
       "      <td>0.978483</td>\n",
       "      <td>0.033660</td>\n",
       "      <td>0.019678</td>\n",
       "    </tr>\n",
       "    <tr>\n",
       "      <th>RandomForestRegression</th>\n",
       "      <td>0.501622</td>\n",
       "      <td>0.881047</td>\n",
       "      <td>0.498378</td>\n",
       "      <td>0.117297</td>\n",
       "    </tr>\n",
       "  </tbody>\n",
       "</table>\n",
       "</div>"
      ],
      "text/plain": [
       "                        MSE Train  MSE Eval  R^2 Train  R^2 Eval\n",
       "LinearRegression         0.965751  0.977358   0.034249  0.020805\n",
       "DecisionTreeRegression   0.966340  0.978483   0.033660  0.019678\n",
       "RandomForestRegression   0.501622  0.881047   0.498378  0.117297"
      ]
     },
     "metadata": {},
     "output_type": "display_data"
    },
    {
     "name": "stdout",
     "output_type": "stream",
     "text": [
      "Vergleich abgeschlossen.\n"
     ]
    }
   ],
   "source": [
    "compare_models(X_train, y_train, X_val, y_val, X_test, y_test, best_params)"
   ]
  },
  {
   "cell_type": "markdown",
   "metadata": {},
   "source": [
    "### Gammas"
   ]
  },
  {
   "cell_type": "code",
   "execution_count": 14,
   "metadata": {},
   "outputs": [],
   "source": [
    "y_train = torch.tensor(y_gammas_train, dtype=torch.float32)\n",
    "y_val = torch.tensor(y_gammas_val, dtype=torch.float32)\n",
    "y_test = torch.tensor(y_gammas_test, dtype=torch.float32)\n",
    "\n",
    "X_train = np.concatenate([gammas_train[\"clean_image_m1\"].tolist(), gammas_train[\"clean_image_m2\"].tolist()], axis=1)\n",
    "X_val = np.concatenate([gammas_val[\"clean_image_m1\"].tolist(), gammas_val[\"clean_image_m2\"].tolist()], axis=1)\n",
    "X_test = np.concatenate([gammas_test[\"clean_image_m1\"].tolist(), gammas_test[\"clean_image_m2\"].tolist()], axis=1)\n",
    "\n",
    "(X_train, X_val, X_test), _ = normalise(X_train, X_val, X_test)\n",
    "\n",
    "X_train = torch.tensor(X_train, dtype=torch.float32)\n",
    "X_val = torch.tensor(X_val, dtype=torch.float32)\n",
    "X_test = torch.tensor(X_test, dtype=torch.float32)"
   ]
  },
  {
   "cell_type": "code",
   "execution_count": 15,
   "metadata": {},
   "outputs": [
    {
     "name": "stdout",
     "output_type": "stream",
     "text": [
      "Training LinearRegression...\n",
      "Training DecisionTreeRegression...\n",
      "Training RandomForestRegression...\n"
     ]
    },
    {
     "data": {
      "text/html": [
       "<div>\n",
       "<style scoped>\n",
       "    .dataframe tbody tr th:only-of-type {\n",
       "        vertical-align: middle;\n",
       "    }\n",
       "\n",
       "    .dataframe tbody tr th {\n",
       "        vertical-align: top;\n",
       "    }\n",
       "\n",
       "    .dataframe thead th {\n",
       "        text-align: right;\n",
       "    }\n",
       "</style>\n",
       "<table border=\"1\" class=\"dataframe\">\n",
       "  <thead>\n",
       "    <tr style=\"text-align: right;\">\n",
       "      <th></th>\n",
       "      <th>MSE Train</th>\n",
       "      <th>MSE Eval</th>\n",
       "      <th>R^2 Train</th>\n",
       "      <th>R^2 Eval</th>\n",
       "    </tr>\n",
       "  </thead>\n",
       "  <tbody>\n",
       "    <tr>\n",
       "      <th>LinearRegression</th>\n",
       "      <td>0.928915</td>\n",
       "      <td>0.937461</td>\n",
       "      <td>0.071085</td>\n",
       "      <td>0.062091</td>\n",
       "    </tr>\n",
       "    <tr>\n",
       "      <th>DecisionTreeRegression</th>\n",
       "      <td>0.954031</td>\n",
       "      <td>0.956765</td>\n",
       "      <td>0.045969</td>\n",
       "      <td>0.042778</td>\n",
       "    </tr>\n",
       "    <tr>\n",
       "      <th>RandomForestRegression</th>\n",
       "      <td>0.307876</td>\n",
       "      <td>0.724883</td>\n",
       "      <td>0.692124</td>\n",
       "      <td>0.274771</td>\n",
       "    </tr>\n",
       "  </tbody>\n",
       "</table>\n",
       "</div>"
      ],
      "text/plain": [
       "                        MSE Train  MSE Eval  R^2 Train  R^2 Eval\n",
       "LinearRegression         0.928915  0.937461   0.071085  0.062091\n",
       "DecisionTreeRegression   0.954031  0.956765   0.045969  0.042778\n",
       "RandomForestRegression   0.307876  0.724883   0.692124  0.274771"
      ]
     },
     "metadata": {},
     "output_type": "display_data"
    },
    {
     "name": "stdout",
     "output_type": "stream",
     "text": [
      "Vergleich abgeschlossen.\n"
     ]
    }
   ],
   "source": [
    "compare_models(X_train, y_train, X_val, y_val, X_test, y_test, best_params)"
   ]
  },
  {
   "cell_type": "markdown",
   "metadata": {},
   "source": [
    "## Using both cleaned images and hillas\n",
    "### Protons"
   ]
  },
  {
   "cell_type": "code",
   "execution_count": 24,
   "metadata": {},
   "outputs": [],
   "source": [
    "y_train = torch.tensor(y_protons_train, dtype=torch.float32)\n",
    "y_val = torch.tensor(y_protons_val, dtype=torch.float32)\n",
    "y_test = torch.tensor(y_protons_test, dtype=torch.float32)\n",
    "\n",
    "X_train = np.concatenate([protons_train[\"clean_image_m1\"].tolist(), protons_train[\"clean_image_m2\"].tolist(), protons_train[hillas_params].values], axis=1)\n",
    "X_val = np.concatenate([protons_val[\"clean_image_m1\"].tolist(), protons_val[\"clean_image_m2\"].tolist(), protons_val[hillas_params].values], axis=1)\n",
    "X_test = np.concatenate([protons_test[\"clean_image_m1\"].tolist(), protons_test[\"clean_image_m2\"].tolist(), protons_test[hillas_params].values], axis=1)\n",
    "\n",
    "(X_train, X_val, X_test), _ = normalise(X_train, X_val, X_test)\n",
    "\n",
    "X_train = torch.tensor(X_train, dtype=torch.float32)\n",
    "X_val = torch.tensor(X_val, dtype=torch.float32)\n",
    "X_test = torch.tensor(X_test, dtype=torch.float32)"
   ]
  },
  {
   "cell_type": "code",
   "execution_count": 26,
   "metadata": {},
   "outputs": [
    {
     "name": "stdout",
     "output_type": "stream",
     "text": [
      "Training LinearRegression...\n",
      "Training DecisionTreeRegression...\n",
      "Training RandomForestRegression...\n"
     ]
    },
    {
     "data": {
      "text/html": [
       "<div>\n",
       "<style scoped>\n",
       "    .dataframe tbody tr th:only-of-type {\n",
       "        vertical-align: middle;\n",
       "    }\n",
       "\n",
       "    .dataframe tbody tr th {\n",
       "        vertical-align: top;\n",
       "    }\n",
       "\n",
       "    .dataframe thead th {\n",
       "        text-align: right;\n",
       "    }\n",
       "</style>\n",
       "<table border=\"1\" class=\"dataframe\">\n",
       "  <thead>\n",
       "    <tr style=\"text-align: right;\">\n",
       "      <th></th>\n",
       "      <th>MSE Train</th>\n",
       "      <th>MSE Eval</th>\n",
       "      <th>R^2 Train</th>\n",
       "      <th>R^2 Eval</th>\n",
       "    </tr>\n",
       "  </thead>\n",
       "  <tbody>\n",
       "    <tr>\n",
       "      <th>LinearRegression</th>\n",
       "      <td>0.888752</td>\n",
       "      <td>0.896797</td>\n",
       "      <td>0.111248</td>\n",
       "      <td>0.101518</td>\n",
       "    </tr>\n",
       "    <tr>\n",
       "      <th>DecisionTreeRegression</th>\n",
       "      <td>0.920699</td>\n",
       "      <td>0.924327</td>\n",
       "      <td>0.079301</td>\n",
       "      <td>0.073936</td>\n",
       "    </tr>\n",
       "    <tr>\n",
       "      <th>RandomForestRegression</th>\n",
       "      <td>0.142819</td>\n",
       "      <td>0.833822</td>\n",
       "      <td>0.857181</td>\n",
       "      <td>0.164611</td>\n",
       "    </tr>\n",
       "  </tbody>\n",
       "</table>\n",
       "</div>"
      ],
      "text/plain": [
       "                        MSE Train  MSE Eval  R^2 Train  R^2 Eval\n",
       "LinearRegression         0.888752  0.896797   0.111248  0.101518\n",
       "DecisionTreeRegression   0.920699  0.924327   0.079301  0.073936\n",
       "RandomForestRegression   0.142819  0.833822   0.857181  0.164611"
      ]
     },
     "metadata": {},
     "output_type": "display_data"
    },
    {
     "name": "stdout",
     "output_type": "stream",
     "text": [
      "Vergleich abgeschlossen.\n"
     ]
    }
   ],
   "source": [
    "compare_models(X_train, y_train, X_val, y_val, X_test, y_test, best_params)"
   ]
  },
  {
   "cell_type": "markdown",
   "metadata": {},
   "source": [
    "### Gammas\n"
   ]
  },
  {
   "cell_type": "code",
   "execution_count": 27,
   "metadata": {},
   "outputs": [],
   "source": [
    "y_train = torch.tensor(y_gammas_train, dtype=torch.float32)\n",
    "y_val = torch.tensor(y_gammas_val, dtype=torch.float32)\n",
    "y_test = torch.tensor(y_gammas_test, dtype=torch.float32)\n",
    "\n",
    "X_train = np.concatenate([gammas_train[\"clean_image_m1\"].tolist(), gammas_train[\"clean_image_m2\"].tolist(), gammas_train[hillas_params].values], axis=1)\n",
    "X_val = np.concatenate([gammas_val[\"clean_image_m1\"].tolist(), gammas_val[\"clean_image_m2\"].tolist(), gammas_val[hillas_params].values], axis=1)\n",
    "X_test = np.concatenate([gammas_test[\"clean_image_m1\"].tolist(), gammas_test[\"clean_image_m2\"].tolist(), gammas_test[hillas_params].values], axis=1)\n",
    "\n",
    "(X_train, X_val, X_test), _ = normalise(X_train, X_val, X_test)\n",
    "\n",
    "X_train = torch.tensor(X_train, dtype=torch.float32)\n",
    "X_val = torch.tensor(X_val, dtype=torch.float32)\n",
    "X_test = torch.tensor(X_test, dtype=torch.float32)"
   ]
  },
  {
   "cell_type": "code",
   "execution_count": 28,
   "metadata": {},
   "outputs": [
    {
     "name": "stdout",
     "output_type": "stream",
     "text": [
      "Training LinearRegression...\n",
      "Training DecisionTreeRegression...\n",
      "Training RandomForestRegression...\n"
     ]
    },
    {
     "data": {
      "text/html": [
       "<div>\n",
       "<style scoped>\n",
       "    .dataframe tbody tr th:only-of-type {\n",
       "        vertical-align: middle;\n",
       "    }\n",
       "\n",
       "    .dataframe tbody tr th {\n",
       "        vertical-align: top;\n",
       "    }\n",
       "\n",
       "    .dataframe thead th {\n",
       "        text-align: right;\n",
       "    }\n",
       "</style>\n",
       "<table border=\"1\" class=\"dataframe\">\n",
       "  <thead>\n",
       "    <tr style=\"text-align: right;\">\n",
       "      <th></th>\n",
       "      <th>MSE Train</th>\n",
       "      <th>MSE Eval</th>\n",
       "      <th>R^2 Train</th>\n",
       "      <th>R^2 Eval</th>\n",
       "    </tr>\n",
       "  </thead>\n",
       "  <tbody>\n",
       "    <tr>\n",
       "      <th>LinearRegression</th>\n",
       "      <td>0.788777</td>\n",
       "      <td>0.796603</td>\n",
       "      <td>0.211223</td>\n",
       "      <td>0.203016</td>\n",
       "    </tr>\n",
       "    <tr>\n",
       "      <th>DecisionTreeRegression</th>\n",
       "      <td>0.838014</td>\n",
       "      <td>0.838855</td>\n",
       "      <td>0.161986</td>\n",
       "      <td>0.160744</td>\n",
       "    </tr>\n",
       "    <tr>\n",
       "      <th>RandomForestRegression</th>\n",
       "      <td>0.083956</td>\n",
       "      <td>0.611935</td>\n",
       "      <td>0.916044</td>\n",
       "      <td>0.387773</td>\n",
       "    </tr>\n",
       "  </tbody>\n",
       "</table>\n",
       "</div>"
      ],
      "text/plain": [
       "                        MSE Train  MSE Eval  R^2 Train  R^2 Eval\n",
       "LinearRegression         0.788777  0.796603   0.211223  0.203016\n",
       "DecisionTreeRegression   0.838014  0.838855   0.161986  0.160744\n",
       "RandomForestRegression   0.083956  0.611935   0.916044  0.387773"
      ]
     },
     "metadata": {},
     "output_type": "display_data"
    },
    {
     "name": "stdout",
     "output_type": "stream",
     "text": [
      "Vergleich abgeschlossen.\n"
     ]
    }
   ],
   "source": [
    "compare_models(X_train, y_train, X_val, y_val, X_test, y_test, best_params)"
   ]
  },
  {
   "cell_type": "markdown",
   "metadata": {},
   "source": [
    "## Using both cleaned images and stereo parameters\n",
    "### Protons"
   ]
  },
  {
   "cell_type": "code",
   "execution_count": 29,
   "metadata": {},
   "outputs": [],
   "source": [
    "y_train = torch.tensor(y_protons_train, dtype=torch.float32)\n",
    "y_val = torch.tensor(y_protons_val, dtype=torch.float32)\n",
    "y_test = torch.tensor(y_protons_test, dtype=torch.float32)\n",
    "\n",
    "X_train = np.concatenate([protons_train[\"clean_image_m1\"].tolist(), protons_train[\"clean_image_m2\"].tolist(), protons_train[stereo_params].values], axis=1)\n",
    "X_val = np.concatenate([protons_val[\"clean_image_m1\"].tolist(), protons_val[\"clean_image_m2\"].tolist(), protons_val[stereo_params].values], axis=1)\n",
    "X_test = np.concatenate([protons_test[\"clean_image_m1\"].tolist(), protons_test[\"clean_image_m2\"].tolist(), protons_test[stereo_params].values], axis=1)\n",
    "\n",
    "(X_train, X_val, X_test), _ = normalise(X_train, X_val, X_test)\n",
    "\n",
    "X_train = torch.tensor(X_train, dtype=torch.float32)\n",
    "X_val = torch.tensor(X_val, dtype=torch.float32)\n",
    "X_test = torch.tensor(X_test, dtype=torch.float32)"
   ]
  },
  {
   "cell_type": "code",
   "execution_count": 30,
   "metadata": {},
   "outputs": [
    {
     "name": "stdout",
     "output_type": "stream",
     "text": [
      "Training LinearRegression...\n",
      "Training DecisionTreeRegression...\n",
      "Training RandomForestRegression...\n"
     ]
    },
    {
     "data": {
      "text/html": [
       "<div>\n",
       "<style scoped>\n",
       "    .dataframe tbody tr th:only-of-type {\n",
       "        vertical-align: middle;\n",
       "    }\n",
       "\n",
       "    .dataframe tbody tr th {\n",
       "        vertical-align: top;\n",
       "    }\n",
       "\n",
       "    .dataframe thead th {\n",
       "        text-align: right;\n",
       "    }\n",
       "</style>\n",
       "<table border=\"1\" class=\"dataframe\">\n",
       "  <thead>\n",
       "    <tr style=\"text-align: right;\">\n",
       "      <th></th>\n",
       "      <th>MSE Train</th>\n",
       "      <th>MSE Eval</th>\n",
       "      <th>R^2 Train</th>\n",
       "      <th>R^2 Eval</th>\n",
       "    </tr>\n",
       "  </thead>\n",
       "  <tbody>\n",
       "    <tr>\n",
       "      <th>LinearRegression</th>\n",
       "      <td>0.608647</td>\n",
       "      <td>0.620874</td>\n",
       "      <td>0.391353</td>\n",
       "      <td>0.377959</td>\n",
       "    </tr>\n",
       "    <tr>\n",
       "      <th>DecisionTreeRegression</th>\n",
       "      <td>0.531089</td>\n",
       "      <td>0.536102</td>\n",
       "      <td>0.468911</td>\n",
       "      <td>0.462891</td>\n",
       "    </tr>\n",
       "    <tr>\n",
       "      <th>RandomForestRegression</th>\n",
       "      <td>0.058658</td>\n",
       "      <td>0.430175</td>\n",
       "      <td>0.941342</td>\n",
       "      <td>0.569016</td>\n",
       "    </tr>\n",
       "  </tbody>\n",
       "</table>\n",
       "</div>"
      ],
      "text/plain": [
       "                        MSE Train  MSE Eval  R^2 Train  R^2 Eval\n",
       "LinearRegression         0.608647  0.620874   0.391353  0.377959\n",
       "DecisionTreeRegression   0.531089  0.536102   0.468911  0.462891\n",
       "RandomForestRegression   0.058658  0.430175   0.941342  0.569016"
      ]
     },
     "metadata": {},
     "output_type": "display_data"
    },
    {
     "name": "stdout",
     "output_type": "stream",
     "text": [
      "Vergleich abgeschlossen.\n"
     ]
    }
   ],
   "source": [
    "compare_models(X_train, y_train, X_val, y_val, X_test, y_test, best_params)"
   ]
  },
  {
   "cell_type": "markdown",
   "metadata": {},
   "source": [
    "### Gammas"
   ]
  },
  {
   "cell_type": "code",
   "execution_count": 31,
   "metadata": {},
   "outputs": [],
   "source": [
    "y_train = torch.tensor(y_gammas_train, dtype=torch.float32)\n",
    "y_val = torch.tensor(y_gammas_val, dtype=torch.float32)\n",
    "y_test = torch.tensor(y_gammas_test, dtype=torch.float32)\n",
    "\n",
    "X_train = np.concatenate([gammas_train[\"clean_image_m1\"].tolist(), gammas_train[\"clean_image_m2\"].tolist(), gammas_train[stereo_params].values], axis=1)\n",
    "X_val = np.concatenate([gammas_val[\"clean_image_m1\"].tolist(), gammas_val[\"clean_image_m2\"].tolist(), gammas_val[stereo_params].values], axis=1)\n",
    "X_test = np.concatenate([gammas_test[\"clean_image_m1\"].tolist(), gammas_test[\"clean_image_m2\"].tolist(), gammas_test[stereo_params].values], axis=1)\n",
    "\n",
    "(X_train, X_val, X_test), _ = normalise(X_train, X_val, X_test)\n",
    "\n",
    "X_train = torch.tensor(X_train, dtype=torch.float32)\n",
    "X_val = torch.tensor(X_val, dtype=torch.float32)\n",
    "X_test = torch.tensor(X_test, dtype=torch.float32)"
   ]
  },
  {
   "cell_type": "code",
   "execution_count": 32,
   "metadata": {},
   "outputs": [
    {
     "name": "stdout",
     "output_type": "stream",
     "text": [
      "Training LinearRegression...\n",
      "Training DecisionTreeRegression...\n",
      "Training RandomForestRegression...\n"
     ]
    },
    {
     "data": {
      "text/html": [
       "<div>\n",
       "<style scoped>\n",
       "    .dataframe tbody tr th:only-of-type {\n",
       "        vertical-align: middle;\n",
       "    }\n",
       "\n",
       "    .dataframe tbody tr th {\n",
       "        vertical-align: top;\n",
       "    }\n",
       "\n",
       "    .dataframe thead th {\n",
       "        text-align: right;\n",
       "    }\n",
       "</style>\n",
       "<table border=\"1\" class=\"dataframe\">\n",
       "  <thead>\n",
       "    <tr style=\"text-align: right;\">\n",
       "      <th></th>\n",
       "      <th>MSE Train</th>\n",
       "      <th>MSE Eval</th>\n",
       "      <th>R^2 Train</th>\n",
       "      <th>R^2 Eval</th>\n",
       "    </tr>\n",
       "  </thead>\n",
       "  <tbody>\n",
       "    <tr>\n",
       "      <th>LinearRegression</th>\n",
       "      <td>0.540442</td>\n",
       "      <td>0.548472</td>\n",
       "      <td>0.459558</td>\n",
       "      <td>0.451265</td>\n",
       "    </tr>\n",
       "    <tr>\n",
       "      <th>DecisionTreeRegression</th>\n",
       "      <td>0.484432</td>\n",
       "      <td>0.485547</td>\n",
       "      <td>0.515568</td>\n",
       "      <td>0.514221</td>\n",
       "    </tr>\n",
       "    <tr>\n",
       "      <th>RandomForestRegression</th>\n",
       "      <td>0.035492</td>\n",
       "      <td>0.260787</td>\n",
       "      <td>0.964508</td>\n",
       "      <td>0.739089</td>\n",
       "    </tr>\n",
       "  </tbody>\n",
       "</table>\n",
       "</div>"
      ],
      "text/plain": [
       "                        MSE Train  MSE Eval  R^2 Train  R^2 Eval\n",
       "LinearRegression         0.540442  0.548472   0.459558  0.451265\n",
       "DecisionTreeRegression   0.484432  0.485547   0.515568  0.514221\n",
       "RandomForestRegression   0.035492  0.260787   0.964508  0.739089"
      ]
     },
     "metadata": {},
     "output_type": "display_data"
    },
    {
     "name": "stdout",
     "output_type": "stream",
     "text": [
      "Vergleich abgeschlossen.\n"
     ]
    }
   ],
   "source": [
    "compare_models(X_train, y_train, X_val, y_val, X_test, y_test, best_params)"
   ]
  },
  {
   "cell_type": "markdown",
   "metadata": {},
   "source": [
    "## Using both cleaned images, hillas and stereo parameters\n",
    "### Protons"
   ]
  },
  {
   "cell_type": "code",
   "execution_count": 37,
   "metadata": {},
   "outputs": [],
   "source": [
    "y_train = torch.tensor(y_protons_train, dtype=torch.float32)\n",
    "y_val = torch.tensor(y_protons_val, dtype=torch.float32)\n",
    "y_test = torch.tensor(y_protons_test, dtype=torch.float32)\n",
    "\n",
    "X_train = np.concatenate([protons_train[\"clean_image_m1\"].tolist(), \n",
    "                          protons_train[\"clean_image_m2\"].tolist(), \n",
    "                          protons_train[stereo_params].values,\n",
    "                          protons_train[hillas_params]], axis=1)\n",
    "X_val = np.concatenate([protons_val[\"clean_image_m1\"].tolist(), \n",
    "                        protons_val[\"clean_image_m2\"].tolist(), \n",
    "                        protons_val[stereo_params].values,\n",
    "                        protons_val[hillas_params]], axis=1)\n",
    "X_test = np.concatenate([protons_test[\"clean_image_m1\"].tolist(), \n",
    "                         protons_test[\"clean_image_m2\"].tolist(), \n",
    "                         protons_test[stereo_params].values,\n",
    "                         protons_test[hillas_params]], axis=1)\n",
    "\n",
    "(X_train, X_val, X_test), _ = normalise(X_train, X_val, X_test)\n",
    "\n",
    "X_train = torch.tensor(X_train, dtype=torch.float32)\n",
    "X_val = torch.tensor(X_val, dtype=torch.float32)\n",
    "X_test = torch.tensor(X_test, dtype=torch.float32)"
   ]
  },
  {
   "cell_type": "code",
   "execution_count": 38,
   "metadata": {},
   "outputs": [
    {
     "name": "stdout",
     "output_type": "stream",
     "text": [
      "Training LinearRegression...\n",
      "Training DecisionTreeRegression...\n",
      "Training RandomForestRegression...\n"
     ]
    },
    {
     "data": {
      "text/html": [
       "<div>\n",
       "<style scoped>\n",
       "    .dataframe tbody tr th:only-of-type {\n",
       "        vertical-align: middle;\n",
       "    }\n",
       "\n",
       "    .dataframe tbody tr th {\n",
       "        vertical-align: top;\n",
       "    }\n",
       "\n",
       "    .dataframe thead th {\n",
       "        text-align: right;\n",
       "    }\n",
       "</style>\n",
       "<table border=\"1\" class=\"dataframe\">\n",
       "  <thead>\n",
       "    <tr style=\"text-align: right;\">\n",
       "      <th></th>\n",
       "      <th>MSE Train</th>\n",
       "      <th>MSE Eval</th>\n",
       "      <th>R^2 Train</th>\n",
       "      <th>R^2 Eval</th>\n",
       "    </tr>\n",
       "  </thead>\n",
       "  <tbody>\n",
       "    <tr>\n",
       "      <th>LinearRegression</th>\n",
       "      <td>0.571968</td>\n",
       "      <td>0.579603</td>\n",
       "      <td>0.428032</td>\n",
       "      <td>0.419307</td>\n",
       "    </tr>\n",
       "    <tr>\n",
       "      <th>DecisionTreeRegression</th>\n",
       "      <td>0.527894</td>\n",
       "      <td>0.532212</td>\n",
       "      <td>0.472106</td>\n",
       "      <td>0.466788</td>\n",
       "    </tr>\n",
       "    <tr>\n",
       "      <th>RandomForestRegression</th>\n",
       "      <td>0.052560</td>\n",
       "      <td>0.387792</td>\n",
       "      <td>0.947440</td>\n",
       "      <td>0.611480</td>\n",
       "    </tr>\n",
       "  </tbody>\n",
       "</table>\n",
       "</div>"
      ],
      "text/plain": [
       "                        MSE Train  MSE Eval  R^2 Train  R^2 Eval\n",
       "LinearRegression         0.571968  0.579603   0.428032  0.419307\n",
       "DecisionTreeRegression   0.527894  0.532212   0.472106  0.466788\n",
       "RandomForestRegression   0.052560  0.387792   0.947440  0.611480"
      ]
     },
     "metadata": {},
     "output_type": "display_data"
    },
    {
     "name": "stdout",
     "output_type": "stream",
     "text": [
      "Vergleich abgeschlossen.\n"
     ]
    }
   ],
   "source": [
    "compare_models(X_train, y_train, X_val, y_val, X_test, y_test, best_params)"
   ]
  },
  {
   "cell_type": "markdown",
   "metadata": {},
   "source": [
    "### Gammas"
   ]
  },
  {
   "cell_type": "code",
   "execution_count": 39,
   "metadata": {},
   "outputs": [],
   "source": [
    "y_train = torch.tensor(y_gammas_train, dtype=torch.float32)\n",
    "y_val = torch.tensor(y_gammas_val, dtype=torch.float32)\n",
    "y_test = torch.tensor(y_gammas_test, dtype=torch.float32)\n",
    "\n",
    "X_train = np.concatenate([gammas_train[\"clean_image_m1\"].tolist(), \n",
    "                          gammas_train[\"clean_image_m2\"].tolist(), \n",
    "                          gammas_train[stereo_params].values,\n",
    "                          gammas_train[hillas_params]], axis=1)\n",
    "X_val = np.concatenate([gammas_val[\"clean_image_m1\"].tolist(), \n",
    "                        gammas_val[\"clean_image_m2\"].tolist(), \n",
    "                        gammas_val[stereo_params].values,\n",
    "                        gammas_val[hillas_params]], axis=1)\n",
    "X_test = np.concatenate([gammas_test[\"clean_image_m1\"].tolist(), \n",
    "                         gammas_test[\"clean_image_m2\"].tolist(), \n",
    "                         gammas_test[stereo_params].values,\n",
    "                         gammas_test[hillas_params]], axis=1)\n",
    "\n",
    "(X_train, X_val, X_test), _ = normalise(X_train, X_val, X_test)\n",
    "\n",
    "X_train = torch.tensor(X_train, dtype=torch.float32)\n",
    "X_val = torch.tensor(X_val, dtype=torch.float32)\n",
    "X_test = torch.tensor(X_test, dtype=torch.float32)"
   ]
  },
  {
   "cell_type": "code",
   "execution_count": 40,
   "metadata": {},
   "outputs": [
    {
     "name": "stdout",
     "output_type": "stream",
     "text": [
      "Training LinearRegression...\n",
      "Training DecisionTreeRegression...\n",
      "Training RandomForestRegression...\n"
     ]
    },
    {
     "data": {
      "text/html": [
       "<div>\n",
       "<style scoped>\n",
       "    .dataframe tbody tr th:only-of-type {\n",
       "        vertical-align: middle;\n",
       "    }\n",
       "\n",
       "    .dataframe tbody tr th {\n",
       "        vertical-align: top;\n",
       "    }\n",
       "\n",
       "    .dataframe thead th {\n",
       "        text-align: right;\n",
       "    }\n",
       "</style>\n",
       "<table border=\"1\" class=\"dataframe\">\n",
       "  <thead>\n",
       "    <tr style=\"text-align: right;\">\n",
       "      <th></th>\n",
       "      <th>MSE Train</th>\n",
       "      <th>MSE Eval</th>\n",
       "      <th>R^2 Train</th>\n",
       "      <th>R^2 Eval</th>\n",
       "    </tr>\n",
       "  </thead>\n",
       "  <tbody>\n",
       "    <tr>\n",
       "      <th>LinearRegression</th>\n",
       "      <td>0.456776</td>\n",
       "      <td>0.463878</td>\n",
       "      <td>0.543224</td>\n",
       "      <td>0.535900</td>\n",
       "    </tr>\n",
       "    <tr>\n",
       "      <th>DecisionTreeRegression</th>\n",
       "      <td>0.467445</td>\n",
       "      <td>0.468118</td>\n",
       "      <td>0.532555</td>\n",
       "      <td>0.531658</td>\n",
       "    </tr>\n",
       "    <tr>\n",
       "      <th>RandomForestRegression</th>\n",
       "      <td>0.029062</td>\n",
       "      <td>0.213438</td>\n",
       "      <td>0.970938</td>\n",
       "      <td>0.786460</td>\n",
       "    </tr>\n",
       "  </tbody>\n",
       "</table>\n",
       "</div>"
      ],
      "text/plain": [
       "                        MSE Train  MSE Eval  R^2 Train  R^2 Eval\n",
       "LinearRegression         0.456776  0.463878   0.543224  0.535900\n",
       "DecisionTreeRegression   0.467445  0.468118   0.532555  0.531658\n",
       "RandomForestRegression   0.029062  0.213438   0.970938  0.786460"
      ]
     },
     "metadata": {},
     "output_type": "display_data"
    },
    {
     "name": "stdout",
     "output_type": "stream",
     "text": [
      "Vergleich abgeschlossen.\n"
     ]
    }
   ],
   "source": [
    "compare_models(X_train, y_train, X_val, y_val, X_test, y_test, best_params)"
   ]
  }
 ],
 "metadata": {
  "kernelspec": {
   "display_name": "Python (MAGICuda)",
   "language": "python",
   "name": "magicuda"
  },
  "language_info": {
   "codemirror_mode": {
    "name": "ipython",
    "version": 3
   },
   "file_extension": ".py",
   "mimetype": "text/x-python",
   "name": "python",
   "nbconvert_exporter": "python",
   "pygments_lexer": "ipython3",
   "version": "3.10.16"
  }
 },
 "nbformat": 4,
 "nbformat_minor": 2
}
