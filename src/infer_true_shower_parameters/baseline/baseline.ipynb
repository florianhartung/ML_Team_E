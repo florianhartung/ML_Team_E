{
 "cells": [
  {
   "cell_type": "markdown",
   "metadata": {},
   "source": [
    "# True Shower Regression Baseline\n",
    "\n",
    "Create a baseline using a simple ML algorithm to predict/infer the true shower parameters using a simple ML algorithm\n",
    "- using clean_image_\\*\\_m1 and clean_image_\\*\\_m2 independently\n",
    "- by combining both clean_image_* features with \"hillas\" and/or \"stereo\""
   ]
  },
  {
   "cell_type": "code",
   "execution_count": 2,
   "metadata": {},
   "outputs": [],
   "source": [
    "import pandas as pd\n",
    "import torch\n",
    "import matplotlib.pyplot as plt\n",
    "import numpy as np\n",
    "import pyarrow.parquet as pq\n",
    "\n",
    "import math\n",
    "import sys\n",
    "\n",
    "sys.path.append(\"../../../magic-ml-images\")\n",
    "from magicdl import magic"
   ]
  },
  {
   "cell_type": "markdown",
   "metadata": {},
   "source": [
    "## Load data"
   ]
  },
  {
   "cell_type": "code",
   "execution_count": 3,
   "metadata": {},
   "outputs": [],
   "source": [
    "NUM_PIXELS = 1183\n",
    "\n",
    "gammas = pd.read_parquet(\"../../../data/magic-gammas.parquet\")\n",
    "protons = pd.read_parquet(\"../../../data/magic-protons.parquet\")"
   ]
  },
  {
   "cell_type": "code",
   "execution_count": 13,
   "metadata": {},
   "outputs": [],
   "source": [
    "ts_params = [\n",
    "    \"true_energy\", \n",
    "    \"true_theta\",\n",
    "    \"true_phi\", \n",
    "    \"true_telescope_theta\", \n",
    "    \"true_telescope_phi\",\n",
    "    \"true_first_interaction_height\",\n",
    "    \"true_impact_m1\",\n",
    "    \"true_impact_m2\"\n",
    "]\n",
    "hillas_params = [\n",
    "    \"hillas_length_m1\",\n",
    "    \"hillas_width_m1\",\n",
    "    \"hillas_delta_m1\",\n",
    "    \"hillas_size_m1\",\n",
    "    \"hillas_cog_x_m1\",\n",
    "    \"hillas_cog_y_m1\",\n",
    "    \"hillas_sin_delta_m1\",\n",
    "    \"hillas_cos_delta_m1\",\n",
    "    \"hillas_length_m2\",\n",
    "    \"hillas_width_m2\",\n",
    "    \"hillas_delta_m2\",\n",
    "    \"hillas_size_m2\",\n",
    "    \"hillas_cog_x_m2\",\n",
    "    \"hillas_cog_y_m2\",\n",
    "    \"hillas_sin_delta_m2\",\n",
    "    \"hillas_cos_delta_m2\"\n",
    "]\n",
    "stereo_params = [\n",
    "    \"stereo_direction_x\",       \n",
    "    \"stereo_direction_y\",       \n",
    "    \"stereo_zenith\",            \n",
    "    \"stereo_azimuth\",           \n",
    "    \"stereo_dec\",               \n",
    "    \"stereo_ra\",                \n",
    "    \"stereo_theta2\",            \n",
    "    \"stereo_core_x\",            \n",
    "    \"stereo_core_y\",            \n",
    "    \"stereo_impact_m1\",         \n",
    "    \"stereo_impact_m2\",         \n",
    "    \"stereo_impact_azimuth_m1\", \n",
    "    \"stereo_impact_azimuth_m2\", \n",
    "    \"stereo_shower_max_height\", \n",
    "    \"stereo_xmax\",              \n",
    "    \"stereo_cherenkov_radius\",  \n",
    "    \"stereo_cherenkov_density\", \n",
    "    \"stereo_baseline_phi_m1\",   \n",
    "    \"stereo_baseline_phi_m2\",   \n",
    "    \"stereo_image_angle\",   \n",
    "    \"stereo_cos_between_shower\"\n",
    "]\n",
    "\n",
    "protons_ts = protons[ts_params]\n",
    "gammas_ts = gammas[ts_params]\n",
    "protons_clean1 = protons[\"clean_image_m1\"]\n",
    "gammas_clean1 = gammas[\"clean_image_m1\"]\n",
    "protons_clean2 = protons[\"clean_image_m2\"]\n",
    "gammas_clean2 = gammas[\"clean_image_m2\"]\n",
    "protons_hillas = protons[hillas_params]\n",
    "gammas_hillas = gammas[hillas_params]\n",
    "protons_stereo = protons[stereo_params]\n",
    "gammas_stereo = gammas[stereo_params]\n"
   ]
  }
 ],
 "metadata": {
  "kernelspec": {
   "display_name": "MAGICuda",
   "language": "python",
   "name": "python3"
  },
  "language_info": {
   "codemirror_mode": {
    "name": "ipython",
    "version": 3
   },
   "file_extension": ".py",
   "mimetype": "text/x-python",
   "name": "python",
   "nbconvert_exporter": "python",
   "pygments_lexer": "ipython3",
   "version": "3.10.16"
  }
 },
 "nbformat": 4,
 "nbformat_minor": 2
}
